{
 "cells": [
  {
   "cell_type": "code",
   "execution_count": 1,
   "id": "fd05b191",
   "metadata": {},
   "outputs": [],
   "source": [
    "import os\n",
    "import glob\n",
    "import pickle\n",
    "import sys\n",
    "# If your current working directory is the notebooks directory, use this:\n",
    "library_path = os.path.abspath(os.path.join(os.getcwd(), '..', 'library'))\n",
    "sys.path.append(library_path)\n",
    "\n",
    "import pandas as pd\n",
    "import datetime as dt\n",
    "from datetime import date, datetime\n",
    "import numpy as np\n",
    "\n",
    "import matplotlib.pyplot as plt\n",
    "import seaborn as sns\n",
    "import plotly.express as px\n",
    "\n",
    "today = date.today().strftime(\"%d%m%Y\")\n",
    "today_day = pd.to_datetime('today').normalize()\n",
    "\n",
    "today = \"12062024\"\n",
    "\n",
    "datapath = \"/Users/leonahammelrath/FU_Psychoinformatik/Github/blueswatch_open/data/\"\n",
    "filepath = datapath + f\"export_bw_{today}\"\n"
   ]
  },
  {
   "cell_type": "code",
   "execution_count": 2,
   "id": "6e307ce0",
   "metadata": {},
   "outputs": [],
   "source": [
    "# load data\n",
    "session = pd.read_csv(filepath + \"/questionnaireSession.csv\",low_memory=False)\n",
    "answers = pd.read_csv(filepath  + \"/answers.csv\", low_memory=False)\n",
    "choice = pd.read_csv(filepath  + \"/choice.csv\",low_memory=False)\n",
    "questions = pd.read_csv(filepath  + \"/questions.csv\",low_memory=False)\n",
    "questionnaire = pd.read_csv(filepath  + \"/questionnaires.csv\", low_memory=False)"
   ]
  },
  {
   "cell_type": "code",
   "execution_count": 3,
   "id": "911e5243",
   "metadata": {},
   "outputs": [],
   "source": [
    "# questionnaire session data\n",
    "session[\"user\"] = session[\"user\"].str[:4]\n",
    "session.rename(columns = {\"user\":\"customer\",\"completedAt\": \"quest_complete\", \"createdAt\": \"quest_create\", \"expirationTimestamp\": \"quest_expir\"}, inplace=True)\n",
    "session[\"quest_create\"] = (pd.to_datetime(session[\"quest_create\"],unit='ms'))\n",
    "session[\"quest_complete\"] = (pd.to_datetime(session[\"quest_complete\"],unit='ms'))\n",
    "\n",
    "df_sess = session[[\"study\",\"customer\", \"sessionRun\", \"quest_create\", \"quest_complete\", \"study\"]]"
   ]
  },
  {
   "cell_type": "code",
   "execution_count": 4,
   "id": "322195b9",
   "metadata": {},
   "outputs": [],
   "source": [
    "# answer data; element = answer\n",
    "answers[\"user\"] = answers[\"user\"].str[:4]\n",
    "answers = answers[[\"user\", \"questionnaireSession\", \"questionnaire\", \"study\", \n",
    "                   \"question\", \"order\",\"element\", \"createdAt\"]]\n",
    "answers[\"createdAt\"] = (pd.to_datetime(answers[\"createdAt\"],unit='ms'))\n",
    "answers.rename(columns={\"user\":\"customer\",\"questionnaireSession\":\"session_unique\"}, inplace=True)"
   ]
  },
  {
   "cell_type": "code",
   "execution_count": 5,
   "id": "21bfcb2c",
   "metadata": {},
   "outputs": [],
   "source": [
    "# item description data; describes element contents\n",
    "choice = choice[[\"element\", \"choice_id\", \"text\", \"question\"]]\n",
    "choice.rename(columns={\"text\":\"choice_text\"}, inplace=True)"
   ]
  },
  {
   "cell_type": "code",
   "execution_count": 6,
   "id": "907d98d2",
   "metadata": {},
   "outputs": [],
   "source": [
    "# question description data, i.e. PHQ8.2\n",
    "questions = questions[[\"id\", \"title\"]]\n",
    "questions.rename(columns={\"id\":\"question\",\"title\":\"quest_title\"}, inplace=True)"
   ]
  },
  {
   "cell_type": "code",
   "execution_count": 7,
   "id": "905d06ba",
   "metadata": {},
   "outputs": [],
   "source": [
    "# questionnaire description data, i.e. Assessment after 4 weeks\n",
    "questionnaire = questionnaire[[\"id\", \"name\"]]\n",
    "questionnaire.rename(columns={\"id\":\"questionnaire\",\"name\":\"questionnaire_name\"}, inplace=True)"
   ]
  },
  {
   "cell_type": "code",
   "execution_count": 8,
   "id": "4097c944",
   "metadata": {},
   "outputs": [],
   "source": [
    "# merge questionnaires to final \n",
    "answer_merged = pd.merge(answers, choice, on= [\"question\",\"element\"])\n",
    "answer_merged = pd.merge(answer_merged, questions, on= \"question\")\n",
    "answer_merged = pd.merge(answer_merged, questionnaire, on= \"questionnaire\")\n",
    "answer_merged[\"quest_complete_day\"] = answer_merged.createdAt.dt.normalize()"
   ]
  },
  {
   "cell_type": "code",
   "execution_count": 9,
   "id": "2b751a69",
   "metadata": {},
   "outputs": [
    {
     "data": {
      "text/plain": [
       "array(['BluesWatch+ Eingangsbefragung', 'BluesWatch Eingangsbefragung',\n",
       "       'Abschlussfragebogen nach 4 Wochen',\n",
       "       'Fragebogen zum psychischen Wohlbefinden - TEST',\n",
       "       'Fragebogen zum psychischen Wohlbefinden'], dtype=object)"
      ]
     },
     "execution_count": 9,
     "metadata": {},
     "output_type": "execute_result"
    }
   ],
   "source": [
    "answer_merged.questionnaire_name.unique()"
   ]
  },
  {
   "cell_type": "code",
   "execution_count": 10,
   "id": "1c9442f0",
   "metadata": {},
   "outputs": [
    {
     "data": {
      "text/plain": [
       "array(['Alter', 'Geschlecht'], dtype=object)"
      ]
     },
     "execution_count": 10,
     "metadata": {},
     "output_type": "execute_result"
    }
   ],
   "source": [
    "answer_merged.loc[answer_merged.questionnaire_name == 'BluesWatch Eingangsbefragung'].quest_title.unique()"
   ]
  },
  {
   "cell_type": "code",
   "execution_count": 11,
   "id": "8e263be6",
   "metadata": {},
   "outputs": [
    {
     "data": {
      "text/plain": [
       "array(['Alter', 'Geschlecht'], dtype=object)"
      ]
     },
     "execution_count": 11,
     "metadata": {},
     "output_type": "execute_result"
    }
   ],
   "source": [
    "answer_merged.loc[answer_merged.questionnaire_name == 'BluesWatch+ Eingangsbefragung'].quest_title.unique()"
   ]
  },
  {
   "cell_type": "code",
   "execution_count": 12,
   "id": "3e57a4e3",
   "metadata": {},
   "outputs": [
    {
     "data": {
      "text/plain": [
       "array(['Abschlussbefragung TK Depressionscoach'], dtype=object)"
      ]
     },
     "execution_count": 12,
     "metadata": {},
     "output_type": "execute_result"
    }
   ],
   "source": [
    "answer_merged.loc[answer_merged.questionnaire_name == 'Abschlussfragebogen nach 4 Wochen'].quest_title.unique()"
   ]
  },
  {
   "cell_type": "code",
   "execution_count": 13,
   "id": "8d4da165",
   "metadata": {},
   "outputs": [
    {
     "data": {
      "text/plain": [
       "array(['PHQ-8_1', 'PHQ-8_2', 'PHQ-8_3', 'PHQ-8_4', 'PHQ-8_5', 'PHQ-8_6',\n",
       "       'PHQ-8_7', 'PHQ-8_8', 'GAD-7'], dtype=object)"
      ]
     },
     "execution_count": 13,
     "metadata": {},
     "output_type": "execute_result"
    }
   ],
   "source": [
    "answer_merged.loc[answer_merged.questionnaire_name == 'Fragebogen zum psychischen Wohlbefinden'].quest_title.unique()"
   ]
  },
  {
   "cell_type": "markdown",
   "id": "b32bc9cb",
   "metadata": {},
   "source": [
    "### Extract demographics"
   ]
  },
  {
   "cell_type": "code",
   "execution_count": 14,
   "id": "2865c990",
   "metadata": {},
   "outputs": [],
   "source": [
    "demographics = answer_merged.loc[answer_merged.questionnaire_name.isin(['BluesWatch Eingangsbefragung', 'BluesWatch+ Eingangsbefragung'])]"
   ]
  },
  {
   "cell_type": "code",
   "execution_count": 15,
   "id": "c17bc654",
   "metadata": {},
   "outputs": [],
   "source": [
    "# Pivot the DataFrame to create 'age' and 'gender' columns\n",
    "demographics = demographics.pivot_table(index='customer', columns='quest_title', values='choice_id', aggfunc='first').reset_index()"
   ]
  },
  {
   "cell_type": "code",
   "execution_count": 16,
   "id": "36828a2a",
   "metadata": {},
   "outputs": [],
   "source": [
    "demographics.rename(columns = {\"Alter\": \"age\", \"Geschlecht\": \"gender\"}, inplace=True)\n"
   ]
  },
  {
   "cell_type": "markdown",
   "id": "b7a80b34",
   "metadata": {},
   "source": [
    "### Extract PHQ & GAD values"
   ]
  },
  {
   "cell_type": "code",
   "execution_count": 17,
   "id": "df31ff3d",
   "metadata": {},
   "outputs": [],
   "source": [
    "phq_gad = answer_merged.loc[answer_merged.questionnaire_name.isin(['Fragebogen zum psychischen Wohlbefinden'])]"
   ]
  },
  {
   "cell_type": "code",
   "execution_count": 18,
   "id": "a06062ae",
   "metadata": {},
   "outputs": [],
   "source": [
    "phq_gad = phq_gad[[\"customer\", \"session_unique\", \"question\", \"element\", \"createdAt\", \"choice_id\", \n",
    "                   \"quest_title\", \"quest_complete_day\"]]"
   ]
  },
  {
   "cell_type": "code",
   "execution_count": 19,
   "id": "46cf051b",
   "metadata": {},
   "outputs": [],
   "source": [
    "# Sort the DataFrame by customer and quest_complete_day\n",
    "phq_gad = phq_gad.sort_values(by=['customer', 'quest_complete_day'])\n",
    "\n",
    "# Create a new column for assessment order per quest_title and customer\n",
    "phq_gad['assessment_order'] = phq_gad.groupby(['customer', 'quest_title']).cumcount() + 1\n",
    "\n",
    "# Create a column for the new column names\n",
    "phq_gad['new_column'] = phq_gad['quest_title'] + '_t' + phq_gad['assessment_order'].astype(str)\n",
    "\n",
    "# Pivot the table\n",
    "phq_gad_pivot = phq_gad.pivot(index='customer', columns='new_column', values='choice_id').reset_index()\n",
    "\n",
    "# Sort the columns by the assessment order (_t)\n",
    "sorted_columns = ['customer'] + sorted([col for col in phq_gad_pivot.columns if col != 'customer'],\n",
    "                                       key=lambda x: int(x.split('_t')[1]))\n",
    "\n",
    "# Reorder the columns\n",
    "phq_gad_pivot = phq_gad_pivot[sorted_columns]"
   ]
  },
  {
   "cell_type": "code",
   "execution_count": 20,
   "id": "26b666b8",
   "metadata": {},
   "outputs": [],
   "source": [
    "phq_gad_t1 = phq_gad.loc[phq_gad.new_column.isin(['PHQ-8_1_t1', 'PHQ-8_2_t1', 'PHQ-8_3_t1', 'PHQ-8_4_t1',\n",
    "       'PHQ-8_5_t1', 'PHQ-8_6_t1', 'PHQ-8_7_t1', 'PHQ-8_8_t1', 'GAD-7_t1'])]"
   ]
  },
  {
   "cell_type": "code",
   "execution_count": 21,
   "id": "df764ba7",
   "metadata": {},
   "outputs": [],
   "source": [
    "phq_gad_t1 = phq_gad_t1[[\"customer\", \"quest_title\", \"choice_id\", \"quest_complete_day\"]]"
   ]
  },
  {
   "cell_type": "code",
   "execution_count": 22,
   "id": "a6414f99",
   "metadata": {},
   "outputs": [],
   "source": [
    "phq_gad_t1 = phq_gad_t1.merge(demographics, on=\"customer\")"
   ]
  },
  {
   "cell_type": "code",
   "execution_count": 28,
   "id": "7c11ca51",
   "metadata": {},
   "outputs": [
    {
     "data": {
      "text/plain": [
       "292"
      ]
     },
     "execution_count": 28,
     "metadata": {},
     "output_type": "execute_result"
    }
   ],
   "source": [
    "phq_gad_t1.customer.nunique()"
   ]
  },
  {
   "cell_type": "code",
   "execution_count": 24,
   "id": "979e71a0",
   "metadata": {},
   "outputs": [],
   "source": [
    "\n",
    "with open(datapath + f'/quest_data.pkl', 'wb') as file:\n",
    "    pickle.dump(phq_gad_t1, file)"
   ]
  },
  {
   "cell_type": "code",
   "execution_count": 25,
   "id": "f593364d",
   "metadata": {},
   "outputs": [
    {
     "name": "stdout",
     "output_type": "stream",
     "text": [
      "Column 'GAD-7_t1': 100.00% of customers have a value\n",
      "Column 'PHQ-8_1_t1': 100.00% of customers have a value\n",
      "Column 'PHQ-8_2_t1': 100.00% of customers have a value\n",
      "Column 'PHQ-8_3_t1': 100.00% of customers have a value\n",
      "Column 'PHQ-8_4_t1': 100.00% of customers have a value\n",
      "Column 'PHQ-8_5_t1': 100.00% of customers have a value\n",
      "Column 'PHQ-8_6_t1': 100.00% of customers have a value\n",
      "Column 'PHQ-8_7_t1': 100.00% of customers have a value\n",
      "Column 'PHQ-8_8_t1': 100.00% of customers have a value\n",
      "Column 'GAD-7_t2': 78.08% of customers have a value\n",
      "Column 'PHQ-8_1_t2': 78.08% of customers have a value\n",
      "Column 'PHQ-8_2_t2': 78.08% of customers have a value\n",
      "Column 'PHQ-8_3_t2': 78.08% of customers have a value\n",
      "Column 'PHQ-8_4_t2': 78.08% of customers have a value\n",
      "Column 'PHQ-8_5_t2': 78.08% of customers have a value\n",
      "Column 'PHQ-8_6_t2': 78.08% of customers have a value\n",
      "Column 'PHQ-8_7_t2': 78.08% of customers have a value\n",
      "Column 'PHQ-8_8_t2': 78.08% of customers have a value\n",
      "Column 'GAD-7_t3': 66.10% of customers have a value\n",
      "Column 'PHQ-8_1_t3': 66.44% of customers have a value\n",
      "Column 'PHQ-8_2_t3': 66.10% of customers have a value\n",
      "Column 'PHQ-8_3_t3': 66.10% of customers have a value\n",
      "Column 'PHQ-8_4_t3': 66.10% of customers have a value\n",
      "Column 'PHQ-8_5_t3': 66.10% of customers have a value\n",
      "Column 'PHQ-8_6_t3': 66.10% of customers have a value\n",
      "Column 'PHQ-8_7_t3': 66.10% of customers have a value\n",
      "Column 'PHQ-8_8_t3': 66.10% of customers have a value\n",
      "Column 'GAD-7_t4': 57.53% of customers have a value\n",
      "Column 'PHQ-8_1_t4': 57.53% of customers have a value\n",
      "Column 'PHQ-8_2_t4': 57.53% of customers have a value\n",
      "Column 'PHQ-8_3_t4': 57.53% of customers have a value\n",
      "Column 'PHQ-8_4_t4': 57.53% of customers have a value\n",
      "Column 'PHQ-8_5_t4': 57.53% of customers have a value\n",
      "Column 'PHQ-8_6_t4': 57.53% of customers have a value\n",
      "Column 'PHQ-8_7_t4': 57.53% of customers have a value\n",
      "Column 'PHQ-8_8_t4': 57.53% of customers have a value\n",
      "Column 'GAD-7_t5': 49.32% of customers have a value\n",
      "Column 'PHQ-8_1_t5': 49.32% of customers have a value\n",
      "Column 'PHQ-8_2_t5': 49.32% of customers have a value\n",
      "Column 'PHQ-8_3_t5': 49.32% of customers have a value\n",
      "Column 'PHQ-8_4_t5': 49.32% of customers have a value\n",
      "Column 'PHQ-8_5_t5': 49.32% of customers have a value\n",
      "Column 'PHQ-8_6_t5': 49.32% of customers have a value\n",
      "Column 'PHQ-8_7_t5': 49.32% of customers have a value\n",
      "Column 'PHQ-8_8_t5': 49.32% of customers have a value\n",
      "Column 'GAD-7_t6': 44.18% of customers have a value\n",
      "Column 'PHQ-8_1_t6': 44.86% of customers have a value\n",
      "Column 'PHQ-8_2_t6': 44.52% of customers have a value\n",
      "Column 'PHQ-8_3_t6': 44.18% of customers have a value\n",
      "Column 'PHQ-8_4_t6': 44.18% of customers have a value\n",
      "Column 'PHQ-8_5_t6': 44.18% of customers have a value\n",
      "Column 'PHQ-8_6_t6': 44.18% of customers have a value\n",
      "Column 'PHQ-8_7_t6': 44.18% of customers have a value\n",
      "Column 'PHQ-8_8_t6': 44.18% of customers have a value\n",
      "Column 'GAD-7_t7': 39.73% of customers have a value\n",
      "Column 'PHQ-8_1_t7': 39.73% of customers have a value\n",
      "Column 'PHQ-8_2_t7': 39.73% of customers have a value\n",
      "Column 'PHQ-8_3_t7': 39.73% of customers have a value\n",
      "Column 'PHQ-8_4_t7': 39.73% of customers have a value\n",
      "Column 'PHQ-8_5_t7': 39.73% of customers have a value\n",
      "Column 'PHQ-8_6_t7': 39.73% of customers have a value\n",
      "Column 'PHQ-8_7_t7': 39.73% of customers have a value\n",
      "Column 'PHQ-8_8_t7': 39.73% of customers have a value\n",
      "Column 'GAD-7_t8': 35.27% of customers have a value\n",
      "Column 'PHQ-8_1_t8': 35.27% of customers have a value\n",
      "Column 'PHQ-8_2_t8': 35.27% of customers have a value\n",
      "Column 'PHQ-8_3_t8': 35.27% of customers have a value\n",
      "Column 'PHQ-8_4_t8': 35.27% of customers have a value\n",
      "Column 'PHQ-8_5_t8': 35.27% of customers have a value\n",
      "Column 'PHQ-8_6_t8': 35.27% of customers have a value\n",
      "Column 'PHQ-8_7_t8': 35.27% of customers have a value\n",
      "Column 'PHQ-8_8_t8': 35.27% of customers have a value\n",
      "Column 'GAD-7_t9': 28.08% of customers have a value\n",
      "Column 'PHQ-8_1_t9': 28.08% of customers have a value\n",
      "Column 'PHQ-8_2_t9': 28.08% of customers have a value\n",
      "Column 'PHQ-8_3_t9': 28.08% of customers have a value\n",
      "Column 'PHQ-8_4_t9': 28.08% of customers have a value\n",
      "Column 'PHQ-8_5_t9': 28.08% of customers have a value\n",
      "Column 'PHQ-8_6_t9': 28.08% of customers have a value\n",
      "Column 'PHQ-8_7_t9': 28.08% of customers have a value\n",
      "Column 'PHQ-8_8_t9': 28.08% of customers have a value\n",
      "Column 'GAD-7_t10': 24.66% of customers have a value\n",
      "Column 'PHQ-8_1_t10': 24.66% of customers have a value\n",
      "Column 'PHQ-8_2_t10': 24.66% of customers have a value\n",
      "Column 'PHQ-8_3_t10': 24.66% of customers have a value\n",
      "Column 'PHQ-8_4_t10': 24.66% of customers have a value\n",
      "Column 'PHQ-8_5_t10': 24.66% of customers have a value\n",
      "Column 'PHQ-8_6_t10': 24.66% of customers have a value\n",
      "Column 'PHQ-8_7_t10': 24.66% of customers have a value\n",
      "Column 'PHQ-8_8_t10': 24.66% of customers have a value\n",
      "Column 'GAD-7_t11': 19.86% of customers have a value\n",
      "Column 'PHQ-8_1_t11': 19.86% of customers have a value\n",
      "Column 'PHQ-8_2_t11': 19.86% of customers have a value\n",
      "Column 'PHQ-8_3_t11': 19.86% of customers have a value\n",
      "Column 'PHQ-8_4_t11': 19.86% of customers have a value\n",
      "Column 'PHQ-8_5_t11': 19.52% of customers have a value\n",
      "Column 'PHQ-8_6_t11': 19.52% of customers have a value\n",
      "Column 'PHQ-8_7_t11': 19.52% of customers have a value\n",
      "Column 'PHQ-8_8_t11': 19.52% of customers have a value\n",
      "Column 'GAD-7_t12': 15.75% of customers have a value\n",
      "Column 'PHQ-8_1_t12': 15.75% of customers have a value\n",
      "Column 'PHQ-8_2_t12': 15.75% of customers have a value\n",
      "Column 'PHQ-8_3_t12': 15.75% of customers have a value\n",
      "Column 'PHQ-8_4_t12': 15.75% of customers have a value\n",
      "Column 'PHQ-8_5_t12': 15.75% of customers have a value\n",
      "Column 'PHQ-8_6_t12': 15.75% of customers have a value\n",
      "Column 'PHQ-8_7_t12': 15.75% of customers have a value\n",
      "Column 'PHQ-8_8_t12': 15.75% of customers have a value\n",
      "Column 'GAD-7_t13': 7.53% of customers have a value\n",
      "Column 'PHQ-8_1_t13': 7.53% of customers have a value\n",
      "Column 'PHQ-8_2_t13': 7.53% of customers have a value\n",
      "Column 'PHQ-8_3_t13': 7.53% of customers have a value\n",
      "Column 'PHQ-8_4_t13': 7.53% of customers have a value\n",
      "Column 'PHQ-8_5_t13': 7.53% of customers have a value\n",
      "Column 'PHQ-8_6_t13': 7.53% of customers have a value\n",
      "Column 'PHQ-8_7_t13': 7.53% of customers have a value\n",
      "Column 'PHQ-8_8_t13': 7.53% of customers have a value\n"
     ]
    }
   ],
   "source": [
    "# Calculate the percentage of customers with values in each column\n",
    "percentages = {}\n",
    "total_customers = phq_gad_pivot.shape[0]\n",
    "\n",
    "for col in phq_gad_pivot.columns:\n",
    "    if col == 'customer' or '_t' not in col:\n",
    "        continue\n",
    "    count_values = phq_gad_pivot[col].count()\n",
    "    percentage = (count_values / total_customers) * 100\n",
    "    percentages[col] = percentage\n",
    "\n",
    "# Print percentages\n",
    "for col, percentage in percentages.items():\n",
    "    print(f\"Column '{col}': {percentage:.2f}% of customers have a value\")"
   ]
  },
  {
   "cell_type": "markdown",
   "id": "2cf498df",
   "metadata": {},
   "source": [
    "### Import passive data"
   ]
  },
  {
   "cell_type": "code",
   "execution_count": null,
   "id": "ed4c1ca2",
   "metadata": {},
   "outputs": [],
   "source": [
    "passive = pd.read_csv(filepath + \"/questionnaireSession.csv\",low_memory=False)\n"
   ]
  }
 ],
 "metadata": {
  "kernelspec": {
   "display_name": "Python 3 (ipykernel)",
   "language": "python",
   "name": "python3"
  },
  "language_info": {
   "codemirror_mode": {
    "name": "ipython",
    "version": 3
   },
   "file_extension": ".py",
   "mimetype": "text/x-python",
   "name": "python",
   "nbconvert_exporter": "python",
   "pygments_lexer": "ipython3",
   "version": "3.11.5"
  }
 },
 "nbformat": 4,
 "nbformat_minor": 5
}
