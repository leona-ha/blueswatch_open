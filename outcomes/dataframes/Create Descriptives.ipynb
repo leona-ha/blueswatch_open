{
 "cells": [
  {
   "cell_type": "code",
   "execution_count": 1,
   "metadata": {},
   "outputs": [],
   "source": [
    "import pandas as pd\n",
    "import numpy as np\n",
    "\n",
    "data_out_directory = \"/Users/leonahammelrath/FU_Psychoinformatik/Github/blueswatch_open/outcomes/dataframes\"\n"
   ]
  },
  {
   "cell_type": "markdown",
   "metadata": {},
   "source": [
    "# Wearable data"
   ]
  },
  {
   "cell_type": "code",
   "execution_count": 2,
   "metadata": {},
   "outputs": [],
   "source": [
    "data_14 = pd.read_csv(\"data_Full_14.csv\")"
   ]
  },
  {
   "cell_type": "code",
   "execution_count": 3,
   "metadata": {},
   "outputs": [],
   "source": [
    "data_all = pd.read_csv(\"data_Full_1.csv\")"
   ]
  },
  {
   "cell_type": "code",
   "execution_count": 4,
   "metadata": {},
   "outputs": [],
   "source": [
    "data_all = data_all.dropna()"
   ]
  },
  {
   "cell_type": "code",
   "execution_count": 5,
   "metadata": {},
   "outputs": [
    {
     "data": {
      "text/plain": [
       "(602, 23)"
      ]
     },
     "execution_count": 5,
     "metadata": {},
     "output_type": "execute_result"
    }
   ],
   "source": [
    "data_all.shape"
   ]
  },
  {
   "cell_type": "code",
   "execution_count": 10,
   "metadata": {},
   "outputs": [],
   "source": [
    "idlist = data_all.id.tolist()"
   ]
  },
  {
   "cell_type": "code",
   "execution_count": 6,
   "metadata": {},
   "outputs": [],
   "source": [
    "data_pre = pd.read_csv(\"data_pre_1.csv\")"
   ]
  },
  {
   "cell_type": "code",
   "execution_count": 11,
   "metadata": {},
   "outputs": [],
   "source": [
    "data_pre = data_pre[[\"id\", \"source\"]]"
   ]
  },
  {
   "cell_type": "code",
   "execution_count": 28,
   "metadata": {},
   "outputs": [
    {
     "data": {
      "text/plain": [
       "<AxesSubplot:ylabel='id'>"
      ]
     },
     "execution_count": 28,
     "metadata": {},
     "output_type": "execute_result"
    },
    {
     "data": {
      "image/png": "[encoded data removed]",
      "text/plain": [
       "<Figure size 432x288 with 1 Axes>"
      ]
     },
     "metadata": {},
     "output_type": "display_data"
    }
   ],
   "source": [
    "data_pre.groupby(\"source\").id.count().plot(kind=\"pie\")"
   ]
  },
  {
   "cell_type": "code",
   "execution_count": 14,
   "metadata": {},
   "outputs": [],
   "source": [
    "data_all = data_all.merge(data_pre, how=\"left\", left_on=\"id\", right_on=\"id\")"
   ]
  },
  {
   "cell_type": "code",
   "execution_count": 26,
   "metadata": {},
   "outputs": [
    {
     "data": {
      "text/plain": [
       "PRE_sex\n",
       "0.0    226\n",
       "1.0    376\n",
       "Name: id, dtype: int64"
      ]
     },
     "execution_count": 26,
     "metadata": {},
     "output_type": "execute_result"
    }
   ],
   "source": [
    "data_all.groupby(\"PRE_sex\").id.count()"
   ]
  },
  {
   "cell_type": "code",
   "execution_count": 24,
   "metadata": {},
   "outputs": [],
   "source": [
    "bins= [20,30,40,50,60, 70, 80]\n",
    "\n",
    "data_all['AgeGroup'] = pd.cut(data_all['age'], bins=bins, right=False)\n",
    "\n"
   ]
  },
  {
   "cell_type": "code",
   "execution_count": 25,
   "metadata": {},
   "outputs": [
    {
     "data": {
      "text/plain": [
       "<AxesSubplot:xlabel='AgeGroup'>"
      ]
     },
     "execution_count": 25,
     "metadata": {},
     "output_type": "execute_result"
    },
    {
     "data": {
      "image/png": "[encoded data removed]",
      "text/plain": [
       "<Figure size 432x288 with 1 Axes>"
      ]
     },
     "metadata": {
      "needs_background": "light"
     },
     "output_type": "display_data"
    }
   ],
   "source": [
    "data_all.groupby(\"AgeGroup\").id.count().plot(kind=\"bar\")"
   ]
  },
  {
   "cell_type": "code",
   "execution_count": null,
   "metadata": {},
   "outputs": [],
   "source": [
    "data_all.groupby(\"PRE_se\")"
   ]
  },
  {
   "cell_type": "code",
   "execution_count": 11,
   "metadata": {},
   "outputs": [
    {
     "data": {
      "text/plain": [
       "count    602.000000\n",
       "mean      42.227575\n",
       "std       11.444420\n",
       "min       20.000000\n",
       "25%       33.000000\n",
       "50%       40.000000\n",
       "75%       52.000000\n",
       "max       75.000000\n",
       "Name: age, dtype: float64"
      ]
     },
     "execution_count": 11,
     "metadata": {},
     "output_type": "execute_result"
    }
   ],
   "source": [
    "data_all.age.describe()"
   ]
  },
  {
   "cell_type": "code",
   "execution_count": 12,
   "metadata": {},
   "outputs": [],
   "source": [
    "data_all_bw3 = pd.read_csv(\"data_Full_bw3_1.csv\")"
   ]
  },
  {
   "cell_type": "code",
   "execution_count": 13,
   "metadata": {},
   "outputs": [
    {
     "data": {
      "text/plain": [
       "(1147, 9)"
      ]
     },
     "execution_count": 13,
     "metadata": {},
     "output_type": "execute_result"
    }
   ],
   "source": [
    "data_all_bw3.shape"
   ]
  },
  {
   "cell_type": "markdown",
   "metadata": {},
   "source": [
    "# Questionnaire data BW4"
   ]
  },
  {
   "cell_type": "code",
   "execution_count": 15,
   "metadata": {},
   "outputs": [],
   "source": [
    "files_directory = \"/Users/leonahammelrath/FU_Psychoinformatik/Github/blueswatch_open/data\""
   ]
  },
  {
   "cell_type": "code",
   "execution_count": 12,
   "metadata": {},
   "outputs": [],
   "source": [
    "answers = pd.read_csv(\"%s/answers.csv\" % files_directory)"
   ]
  },
  {
   "cell_type": "code",
   "execution_count": 13,
   "metadata": {},
   "outputs": [],
   "source": [
    "answers[\"user\"] = answers.user.str[:-13]"
   ]
  },
  {
   "cell_type": "code",
   "execution_count": 14,
   "metadata": {},
   "outputs": [],
   "source": [
    "answers.drop([\"order\", \"value\"], axis=1, inplace=True)"
   ]
  },
  {
   "cell_type": "code",
   "execution_count": 15,
   "metadata": {},
   "outputs": [],
   "source": [
    "answers[\"element\"] = answers['element'].fillna(0)"
   ]
  },
  {
   "cell_type": "code",
   "execution_count": 16,
   "metadata": {},
   "outputs": [],
   "source": [
    "answers['element'] = answers['element'].astype(int)"
   ]
  },
  {
   "cell_type": "code",
   "execution_count": 17,
   "metadata": {},
   "outputs": [
    {
     "data": {
      "text/plain": [
       "1462"
      ]
     },
     "execution_count": 17,
     "metadata": {},
     "output_type": "execute_result"
    }
   ],
   "source": [
    "answers.loc[answers.questionnaire == 33].user.nunique()"
   ]
  },
  {
   "cell_type": "markdown",
   "metadata": {},
   "source": [
    "# Questionnaire data BW3"
   ]
  },
  {
   "cell_type": "code",
   "execution_count": 16,
   "metadata": {},
   "outputs": [],
   "source": [
    "df_tk = pd.read_csv(\"%s/export_data_leona_20230606.csv\" % files_directory)#.dropna(subset=[\"studyInfo_BW\", 'PRE_screening_start'])"
   ]
  },
  {
   "cell_type": "code",
   "execution_count": 19,
   "metadata": {},
   "outputs": [],
   "source": [
    "#df_tk.drop(\"studyInfo_BW\", axis=1, inplace=True)"
   ]
  },
  {
   "cell_type": "code",
   "execution_count": 17,
   "metadata": {},
   "outputs": [],
   "source": [
    "df_tk.PRE_screening_start = pd.to_datetime(\n",
    "    df_tk.PRE_screening_start)"
   ]
  },
  {
   "cell_type": "code",
   "execution_count": 18,
   "metadata": {},
   "outputs": [],
   "source": [
    "df_tk[\"year\"] = df_tk.PRE_screening_start.dt.year"
   ]
  },
  {
   "cell_type": "code",
   "execution_count": 19,
   "metadata": {},
   "outputs": [],
   "source": [
    "df_tk[\"age\"] = df_tk[\"year\"] - df_tk[\"PRE_birth\"]"
   ]
  },
  {
   "cell_type": "code",
   "execution_count": 20,
   "metadata": {},
   "outputs": [],
   "source": [
    "df_tk[\"phq_sum\"] = df_tk[['PRE_phqD1',\n",
    "       'PRE_phqD2', 'PRE_phqD3', 'PRE_phqD4', 'PRE_phqD5', 'PRE_phqD6',\n",
    "       'PRE_phqD7', 'PRE_phqD8']].sum(axis=1)"
   ]
  },
  {
   "cell_type": "code",
   "execution_count": 21,
   "metadata": {},
   "outputs": [],
   "source": [
    "df_tk[\"phq_cat\"] = np.where((df_tk[\"phq_sum\"] >= 10),1,0)\n"
   ]
  },
  {
   "cell_type": "code",
   "execution_count": 23,
   "metadata": {},
   "outputs": [
    {
     "data": {
      "text/plain": [
       "1488"
      ]
     },
     "execution_count": 23,
     "metadata": {},
     "output_type": "execute_result"
    }
   ],
   "source": [
    "df_tk.token_BW.nunique()"
   ]
  },
  {
   "cell_type": "code",
   "execution_count": 25,
   "metadata": {},
   "outputs": [],
   "source": [
    "#df_tk[\"user\"] = df_tk.token_BW.str[:-13]"
   ]
  },
  {
   "cell_type": "code",
   "execution_count": 28,
   "metadata": {},
   "outputs": [],
   "source": [
    "df_tk.to_csv(\"%s/tk_questionnaire.csv\" % (data_out_directory), index=False)\n"
   ]
  },
  {
   "cell_type": "code",
   "execution_count": 29,
   "metadata": {},
   "outputs": [],
   "source": [
    "df_tk.rename(columns = {\"PRE_phqD1\": \"phq1\", \"PRE_phqD2\": \"phq2\",\"PRE_phqD3\": \"phq3\", \"PRE_phqD4\": \"phq4\", \n",
    "                        \"PRE_phqD5\": \"phq5\",\"PRE_phqD6\": \"phq6\", \"PRE_phqD7\": \"phq7\", \"PRE_phqD8\": \"phq8\",\n",
    "                       \"PRE_screening_start\": \"createdAt\", \"PRE_sex\": \"gender\", \"PRE_gad4\" : \"gad_score\"}, inplace=True)"
   ]
  },
  {
   "cell_type": "code",
   "execution_count": 30,
   "metadata": {},
   "outputs": [],
   "source": [
    "df_tk = df_tk.sort_values('createdAt').drop_duplicates(['user'], keep='last')"
   ]
  },
  {
   "cell_type": "code",
   "execution_count": 33,
   "metadata": {},
   "outputs": [],
   "source": [
    "df_tk.drop([\"year\", \"PRE_birth\"], axis=1, inplace=True)"
   ]
  },
  {
   "cell_type": "markdown",
   "metadata": {},
   "source": [
    "### Import questionnaire session df"
   ]
  },
  {
   "cell_type": "code",
   "execution_count": 34,
   "metadata": {},
   "outputs": [],
   "source": [
    "questionnaire_sessions = pd.read_csv(\n",
    "    \"%s/questionnaireSession.csv\" % files_directory).dropna(subset=[\"completedAt\"])"
   ]
  },
  {
   "cell_type": "code",
   "execution_count": 35,
   "metadata": {},
   "outputs": [
    {
     "data": {
      "text/html": [
       "<div>\n",
       "<style scoped>\n",
       "    .dataframe tbody tr th:only-of-type {\n",
       "        vertical-align: middle;\n",
       "    }\n",
       "\n",
       "    .dataframe tbody tr th {\n",
       "        vertical-align: top;\n",
       "    }\n",
       "\n",
       "    .dataframe thead th {\n",
       "        text-align: right;\n",
       "    }\n",
       "</style>\n",
       "<table border=\"1\" class=\"dataframe\">\n",
       "  <thead>\n",
       "    <tr style=\"text-align: right;\">\n",
       "      <th></th>\n",
       "      <th>id</th>\n",
       "      <th>user</th>\n",
       "      <th>study</th>\n",
       "      <th>questionnaire</th>\n",
       "      <th>sessionRun</th>\n",
       "      <th>expirationTimestamp</th>\n",
       "      <th>createdAt</th>\n",
       "      <th>completedAt</th>\n",
       "    </tr>\n",
       "  </thead>\n",
       "  <tbody>\n",
       "    <tr>\n",
       "      <th>0</th>\n",
       "      <td>401</td>\n",
       "      <td>WJsWrP1Xev01GocU</td>\n",
       "      <td>0</td>\n",
       "      <td>8</td>\n",
       "      <td>0</td>\n",
       "      <td>1716121352086</td>\n",
       "      <td>1629721356420</td>\n",
       "      <td>1.629721e+12</td>\n",
       "    </tr>\n",
       "    <tr>\n",
       "      <th>1</th>\n",
       "      <td>402</td>\n",
       "      <td>LBeMVYErEObeKkjG</td>\n",
       "      <td>0</td>\n",
       "      <td>8</td>\n",
       "      <td>0</td>\n",
       "      <td>1716121911575</td>\n",
       "      <td>1629721937171</td>\n",
       "      <td>1.629753e+12</td>\n",
       "    </tr>\n",
       "    <tr>\n",
       "      <th>2</th>\n",
       "      <td>408</td>\n",
       "      <td>UtvvYGu9GvdcphfU</td>\n",
       "      <td>0</td>\n",
       "      <td>8</td>\n",
       "      <td>0</td>\n",
       "      <td>1716214556206</td>\n",
       "      <td>1629814605470</td>\n",
       "      <td>1.629815e+12</td>\n",
       "    </tr>\n",
       "    <tr>\n",
       "      <th>5</th>\n",
       "      <td>415</td>\n",
       "      <td>rzf2IwN7UR3WZ5KR</td>\n",
       "      <td>0</td>\n",
       "      <td>8</td>\n",
       "      <td>1</td>\n",
       "      <td>1716294377585</td>\n",
       "      <td>1629895661716</td>\n",
       "      <td>1.629896e+12</td>\n",
       "    </tr>\n",
       "    <tr>\n",
       "      <th>8</th>\n",
       "      <td>423</td>\n",
       "      <td>JzbUmjsKqr1WAKha</td>\n",
       "      <td>0</td>\n",
       "      <td>8</td>\n",
       "      <td>0</td>\n",
       "      <td>1716465968571</td>\n",
       "      <td>1630065983082</td>\n",
       "      <td>1.630066e+12</td>\n",
       "    </tr>\n",
       "  </tbody>\n",
       "</table>\n",
       "</div>"
      ],
      "text/plain": [
       "    id              user  study  questionnaire  sessionRun  \\\n",
       "0  401  WJsWrP1Xev01GocU      0              8           0   \n",
       "1  402  LBeMVYErEObeKkjG      0              8           0   \n",
       "2  408  UtvvYGu9GvdcphfU      0              8           0   \n",
       "5  415  rzf2IwN7UR3WZ5KR      0              8           1   \n",
       "8  423  JzbUmjsKqr1WAKha      0              8           0   \n",
       "\n",
       "   expirationTimestamp      createdAt   completedAt  \n",
       "0        1716121352086  1629721356420  1.629721e+12  \n",
       "1        1716121911575  1629721937171  1.629753e+12  \n",
       "2        1716214556206  1629814605470  1.629815e+12  \n",
       "5        1716294377585  1629895661716  1.629896e+12  \n",
       "8        1716465968571  1630065983082  1.630066e+12  "
      ]
     },
     "execution_count": 35,
     "metadata": {},
     "output_type": "execute_result"
    }
   ],
   "source": [
    "questionnaire_sessions.head()"
   ]
  },
  {
   "cell_type": "code",
   "execution_count": 36,
   "metadata": {},
   "outputs": [],
   "source": [
    "questionnaire_sessions.completedAt = pd.to_datetime(\n",
    "    questionnaire_sessions.completedAt, unit=\"ms\")\n",
    "questionnaire_sessions[\"day\"] = questionnaire_sessions.completedAt.dt.normalize()\n",
    "questionnaire_sessions[\"user\"] = questionnaire_sessions.user.str[:-13]"
   ]
  },
  {
   "cell_type": "code",
   "execution_count": 37,
   "metadata": {},
   "outputs": [
    {
     "data": {
      "text/plain": [
       "questionnaire\n",
       "8     1047\n",
       "30       5\n",
       "31     628\n",
       "33    1454\n",
       "45     192\n",
       "Name: user, dtype: int64"
      ]
     },
     "execution_count": 37,
     "metadata": {},
     "output_type": "execute_result"
    }
   ],
   "source": [
    "questionnaire_sessions.groupby(\"questionnaire\")[\"user\"].nunique() # 45= BW4, 33= BW3 und früher"
   ]
  },
  {
   "cell_type": "markdown",
   "metadata": {},
   "source": [
    "### Import choice df"
   ]
  },
  {
   "cell_type": "code",
   "execution_count": 38,
   "metadata": {},
   "outputs": [],
   "source": [
    "choice = pd.read_csv(\"%s/choice.csv\" % files_directory)"
   ]
  },
  {
   "cell_type": "code",
   "execution_count": 39,
   "metadata": {},
   "outputs": [],
   "source": [
    "choice.drop([\"unique\",\"question\", \"catch\", \"image_body\", \"image_contentType\", \"image_lastModified\"], axis=1, inplace=True)"
   ]
  },
  {
   "cell_type": "code",
   "execution_count": 40,
   "metadata": {},
   "outputs": [],
   "source": [
    "answers = answers.merge(choice, left_on=\"element\", right_on=\"element\", how=\"outer\")"
   ]
  },
  {
   "cell_type": "code",
   "execution_count": 41,
   "metadata": {},
   "outputs": [],
   "source": [
    "answers['question']= answers['question'].fillna(0)"
   ]
  },
  {
   "cell_type": "code",
   "execution_count": 42,
   "metadata": {},
   "outputs": [],
   "source": [
    "answers['question'] = answers['question'].astype(int)"
   ]
  },
  {
   "cell_type": "code",
   "execution_count": 43,
   "metadata": {},
   "outputs": [],
   "source": [
    "answers['choice_id']= answers['choice_id'].fillna(0)"
   ]
  },
  {
   "cell_type": "code",
   "execution_count": 44,
   "metadata": {},
   "outputs": [],
   "source": [
    "answers['choice_id'] = answers['choice_id'].astype(int)"
   ]
  },
  {
   "cell_type": "code",
   "execution_count": 45,
   "metadata": {},
   "outputs": [],
   "source": [
    "questions = pd.read_csv(\"%s/questions.csv\" % files_directory)"
   ]
  },
  {
   "cell_type": "code",
   "execution_count": 46,
   "metadata": {},
   "outputs": [],
   "source": [
    "questions.drop([\"text\", \"description\", \"type\"], axis=1, inplace=True)"
   ]
  },
  {
   "cell_type": "code",
   "execution_count": 47,
   "metadata": {},
   "outputs": [],
   "source": [
    "answers = answers.merge(questions, left_on = \"question\", right_on = \"id\", how = \"outer\")"
   ]
  },
  {
   "cell_type": "code",
   "execution_count": 48,
   "metadata": {},
   "outputs": [],
   "source": [
    "answers.drop([\"id_y\"], axis=1, inplace=True)"
   ]
  },
  {
   "cell_type": "markdown",
   "metadata": {},
   "source": [
    "## Calculate Age "
   ]
  },
  {
   "cell_type": "code",
   "execution_count": 49,
   "metadata": {},
   "outputs": [],
   "source": [
    "answers[\"createdAt\"] = pd.to_datetime(answers[\"createdAt\"], unit=\"ms\").dt.normalize()"
   ]
  },
  {
   "cell_type": "code",
   "execution_count": 50,
   "metadata": {},
   "outputs": [],
   "source": [
    "answers[\"create_year\"] = answers[\"createdAt\"].dt.year"
   ]
  },
  {
   "cell_type": "code",
   "execution_count": 51,
   "metadata": {},
   "outputs": [],
   "source": [
    "answers_age = answers.loc[answers['question'] == 18]\n"
   ]
  },
  {
   "cell_type": "code",
   "execution_count": 52,
   "metadata": {},
   "outputs": [],
   "source": [
    "answers_age = answers_age[[\"user\", \"text\", \"create_year\", \"createdAt\"]]"
   ]
  },
  {
   "cell_type": "code",
   "execution_count": 53,
   "metadata": {},
   "outputs": [],
   "source": [
    "answers_age = answers_age.sort_values('createdAt').drop_duplicates(['user'], keep='last')"
   ]
  },
  {
   "cell_type": "code",
   "execution_count": 54,
   "metadata": {},
   "outputs": [],
   "source": [
    "answers_age[\"text\"] = answers_age[\"text\"].astype(int)"
   ]
  },
  {
   "cell_type": "code",
   "execution_count": 55,
   "metadata": {},
   "outputs": [],
   "source": [
    "answers_age[\"age\"] = answers_age[\"create_year\"] - answers_age[\"text\"]"
   ]
  },
  {
   "cell_type": "code",
   "execution_count": 56,
   "metadata": {},
   "outputs": [],
   "source": [
    "answers_age.drop([\"text\", \"create_year\", \"createdAt\"], axis=1, inplace=True)"
   ]
  },
  {
   "cell_type": "code",
   "execution_count": 57,
   "metadata": {},
   "outputs": [],
   "source": [
    "answers= answers.merge(answers_age, left_on=\"user\", right_on=\"user\", how= \"outer\")"
   ]
  },
  {
   "cell_type": "markdown",
   "metadata": {},
   "source": [
    "## Create Gender Column"
   ]
  },
  {
   "cell_type": "code",
   "execution_count": 58,
   "metadata": {},
   "outputs": [],
   "source": [
    "answers_gender = answers.loc[answers['question'] == 19]"
   ]
  },
  {
   "cell_type": "code",
   "execution_count": 59,
   "metadata": {},
   "outputs": [],
   "source": [
    "answers_gender = answers_gender[[\"user\", \"choice_id\",\"createdAt\"]]"
   ]
  },
  {
   "cell_type": "code",
   "execution_count": 60,
   "metadata": {},
   "outputs": [],
   "source": [
    "answers_gender = answers_gender.sort_values('createdAt').drop_duplicates(['user'], keep='last')"
   ]
  },
  {
   "cell_type": "code",
   "execution_count": 61,
   "metadata": {},
   "outputs": [],
   "source": [
    "answers_gender[\"gender\"] = answers_gender[\"choice_id\"]*10"
   ]
  },
  {
   "cell_type": "code",
   "execution_count": 62,
   "metadata": {},
   "outputs": [],
   "source": [
    "answers_gender.drop([\"createdAt\", \"choice_id\"], axis=1, inplace=True)"
   ]
  },
  {
   "cell_type": "code",
   "execution_count": 63,
   "metadata": {},
   "outputs": [],
   "source": [
    "answers= answers.merge(answers_gender, left_on=\"user\", right_on=\"user\", how= \"outer\")"
   ]
  },
  {
   "cell_type": "code",
   "execution_count": 64,
   "metadata": {},
   "outputs": [],
   "source": [
    "answers.drop([\"text\", \"create_year\"], axis=1, inplace= True)"
   ]
  },
  {
   "cell_type": "markdown",
   "metadata": {},
   "source": [
    "## Create PHQ Values"
   ]
  },
  {
   "cell_type": "markdown",
   "metadata": {},
   "source": [
    "### PHQ1"
   ]
  },
  {
   "cell_type": "code",
   "execution_count": 65,
   "metadata": {},
   "outputs": [],
   "source": [
    "answers_phq = answers[answers.question.isin([228, 229, 230, 231, 232, 233, 234, 235])]"
   ]
  },
  {
   "cell_type": "code",
   "execution_count": 66,
   "metadata": {},
   "outputs": [],
   "source": [
    "answers_phq1 = answers_phq.loc[answers['question'] == 228]\n",
    "answers_phq1 = answers_phq1.sort_values('createdAt').drop_duplicates(['user'], keep='first')\n",
    "answers_phq1[\"phq1\"] = answers_phq1[\"choice_id\"]\n",
    "answers_phq1 = answers_phq1[[\"user\",\"phq1\"]]\n",
    "\n",
    "answers = answers.merge(answers_phq1, left_on=\"user\", right_on=\"user\", how= \"outer\")"
   ]
  },
  {
   "cell_type": "markdown",
   "metadata": {},
   "source": [
    "### PHQ2"
   ]
  },
  {
   "cell_type": "code",
   "execution_count": 67,
   "metadata": {},
   "outputs": [],
   "source": [
    "answers_phq2 = answers_phq.loc[answers['question'] == 229]\n",
    "answers_phq2 = answers_phq2.sort_values('createdAt').drop_duplicates(['user'], keep='first')\n",
    "answers_phq2[\"phq2\"] = answers_phq2[\"choice_id\"]\n",
    "answers_phq2 = answers_phq2[[\"user\",\"phq2\"]]\n",
    "\n",
    "answers = answers.merge(answers_phq2, left_on=\"user\", right_on=\"user\", how= \"outer\")"
   ]
  },
  {
   "cell_type": "markdown",
   "metadata": {},
   "source": [
    "### PHQ3"
   ]
  },
  {
   "cell_type": "code",
   "execution_count": 68,
   "metadata": {},
   "outputs": [],
   "source": [
    "answers_phq3 = answers_phq.loc[answers['question'] == 230]\n",
    "answers_phq3 = answers_phq3.sort_values('createdAt').drop_duplicates(['user'], keep='first')\n",
    "answers_phq3[\"phq3\"] = answers_phq3[\"choice_id\"]\n",
    "answers_phq3 = answers_phq3[[\"user\",\"phq3\"]]\n",
    "\n",
    "answers = answers.merge(answers_phq3, left_on=\"user\", right_on=\"user\", how= \"outer\")"
   ]
  },
  {
   "cell_type": "markdown",
   "metadata": {},
   "source": [
    "### PHQ4\n"
   ]
  },
  {
   "cell_type": "code",
   "execution_count": 69,
   "metadata": {},
   "outputs": [],
   "source": [
    "answers_phq4 = answers_phq.loc[answers['question'] == 231]\n",
    "answers_phq4 = answers_phq4.sort_values('createdAt').drop_duplicates(['user'], keep='first')\n",
    "answers_phq4[\"phq4\"] = answers_phq4[\"choice_id\"]\n",
    "answers_phq4 = answers_phq4[[\"user\",\"phq4\"]]\n",
    "\n",
    "answers = answers.merge(answers_phq4, left_on=\"user\", right_on=\"user\", how= \"outer\")"
   ]
  },
  {
   "cell_type": "markdown",
   "metadata": {},
   "source": [
    "### PHQ5"
   ]
  },
  {
   "cell_type": "code",
   "execution_count": 70,
   "metadata": {},
   "outputs": [],
   "source": [
    "answers_phq5 = answers_phq.loc[answers['question'] == 232]\n",
    "answers_phq5 = answers_phq5.sort_values('createdAt').drop_duplicates(['user'], keep='first')\n",
    "answers_phq5[\"phq5\"] = answers_phq5[\"choice_id\"]\n",
    "answers_phq5 = answers_phq5[[\"user\",\"phq5\"]]\n",
    "\n",
    "answers = answers.merge(answers_phq5, left_on=\"user\", right_on=\"user\", how= \"outer\")"
   ]
  },
  {
   "cell_type": "markdown",
   "metadata": {},
   "source": [
    "### PHQ6\n"
   ]
  },
  {
   "cell_type": "code",
   "execution_count": 71,
   "metadata": {},
   "outputs": [],
   "source": [
    "answers_phq6 = answers_phq.loc[answers['question'] == 233]\n",
    "answers_phq6 = answers_phq6.sort_values('createdAt').drop_duplicates(['user'], keep='first')\n",
    "answers_phq6[\"phq6\"] = answers_phq6[\"choice_id\"]\n",
    "answers_phq6 = answers_phq6[[\"user\",\"phq6\"]]\n",
    "\n",
    "answers = answers.merge(answers_phq6, left_on=\"user\", right_on=\"user\", how= \"outer\")"
   ]
  },
  {
   "cell_type": "markdown",
   "metadata": {},
   "source": [
    "### PHQ7\n"
   ]
  },
  {
   "cell_type": "code",
   "execution_count": 72,
   "metadata": {},
   "outputs": [],
   "source": [
    "answers_phq7 = answers_phq.loc[answers['question'] == 234]\n",
    "answers_phq7 = answers_phq7.sort_values('createdAt').drop_duplicates(['user'], keep='first')\n",
    "answers_phq7[\"phq7\"] = answers_phq7[\"choice_id\"]\n",
    "answers_phq7 = answers_phq7[[\"user\",\"phq7\"]]\n",
    "\n",
    "answers = answers.merge(answers_phq7, left_on=\"user\", right_on=\"user\", how= \"outer\")"
   ]
  },
  {
   "cell_type": "markdown",
   "metadata": {},
   "source": [
    "### PHQ8"
   ]
  },
  {
   "cell_type": "code",
   "execution_count": 73,
   "metadata": {},
   "outputs": [],
   "source": [
    "answers_phq8 = answers_phq.loc[answers['question'] == 235]\n",
    "answers_phq8 = answers_phq8.sort_values('createdAt').drop_duplicates(['user'], keep='first')\n",
    "answers_phq8[\"phq8\"] = answers_phq8[\"choice_id\"]\n",
    "answers_phq8 = answers_phq8[[\"user\",\"phq8\"]]\n",
    "\n",
    "answers = answers.merge(answers_phq8, left_on=\"user\", right_on=\"user\", how= \"outer\")"
   ]
  },
  {
   "cell_type": "markdown",
   "metadata": {},
   "source": [
    "## Extract GAD values"
   ]
  },
  {
   "cell_type": "code",
   "execution_count": 74,
   "metadata": {},
   "outputs": [],
   "source": [
    "answer_gad = answers.loc[answers.question == 249]"
   ]
  },
  {
   "cell_type": "code",
   "execution_count": 75,
   "metadata": {},
   "outputs": [],
   "source": [
    "answer_gad = answer_gad[[\"user\", \"choice_id\",\"createdAt\"]]"
   ]
  },
  {
   "cell_type": "code",
   "execution_count": 76,
   "metadata": {},
   "outputs": [],
   "source": [
    "answer_gad = answer_gad.sort_values('createdAt').drop_duplicates(['user'], keep='first')"
   ]
  },
  {
   "cell_type": "code",
   "execution_count": 77,
   "metadata": {},
   "outputs": [],
   "source": [
    "answer_gad[\"gad_score\"] = answer_gad[\"choice_id\"]"
   ]
  },
  {
   "cell_type": "code",
   "execution_count": 78,
   "metadata": {},
   "outputs": [],
   "source": [
    "answer_gad = answer_gad[[\"user\", \"gad_score\"]]"
   ]
  },
  {
   "cell_type": "code",
   "execution_count": 79,
   "metadata": {},
   "outputs": [],
   "source": [
    "answers= answers.merge(answer_gad, left_on=\"user\", right_on=\"user\", how= \"outer\")"
   ]
  },
  {
   "cell_type": "code",
   "execution_count": 80,
   "metadata": {},
   "outputs": [],
   "source": [
    "test = answers.loc[answers.question == 233]"
   ]
  },
  {
   "cell_type": "markdown",
   "metadata": {},
   "source": [
    "## Create PHQ score for BluesWatch Eingangsbefragung (Study 21) "
   ]
  },
  {
   "cell_type": "code",
   "execution_count": 81,
   "metadata": {},
   "outputs": [],
   "source": [
    "answers_phq = answers_phq.loc[answers_phq['questionnaire']== 45]"
   ]
  },
  {
   "cell_type": "code",
   "execution_count": 82,
   "metadata": {},
   "outputs": [],
   "source": [
    "answers_phq= answers_phq[[\"user\", \"question\", \"createdAt\", \"element\", \"choice_id\"]]"
   ]
  },
  {
   "cell_type": "code",
   "execution_count": 83,
   "metadata": {},
   "outputs": [],
   "source": [
    "answers_phq_grouped = answers_phq.groupby([\"user\", \"createdAt\"])[\"choice_id\"].sum()"
   ]
  },
  {
   "cell_type": "code",
   "execution_count": 84,
   "metadata": {},
   "outputs": [],
   "source": [
    "answers_phq_grouped = answers_phq_grouped.reset_index()"
   ]
  },
  {
   "cell_type": "code",
   "execution_count": 85,
   "metadata": {},
   "outputs": [],
   "source": [
    "answers_phq_grouped.rename(columns = {\"choice_id\": \"phq_sum\", \"createdAt\": \"phq_create\"}, inplace=True)"
   ]
  },
  {
   "cell_type": "code",
   "execution_count": 86,
   "metadata": {},
   "outputs": [],
   "source": [
    "answers_phq_grouped[\"phq_cat\"] = np.where((answers_phq_grouped[\"phq_sum\"] >= 10),1,0)\n"
   ]
  },
  {
   "cell_type": "code",
   "execution_count": 87,
   "metadata": {},
   "outputs": [],
   "source": [
    "answers_phq_grouped = answers_phq_grouped.sort_values('phq_create').drop_duplicates(['user'], keep='first')"
   ]
  },
  {
   "cell_type": "code",
   "execution_count": 88,
   "metadata": {},
   "outputs": [],
   "source": [
    "answers = answers.merge(answers_phq_grouped, left_on=\"user\", right_on=\"user\", how= \"outer\")"
   ]
  },
  {
   "cell_type": "code",
   "execution_count": 89,
   "metadata": {},
   "outputs": [],
   "source": [
    "answers_final = answers[['user', 'createdAt', 'age',\n",
    "       'gender', 'phq1', 'phq2', 'phq3', 'phq4', 'phq5', 'phq6', 'phq7',\n",
    "       'phq8', 'gad_score','phq_cat' ]]"
   ]
  },
  {
   "cell_type": "code",
   "execution_count": 90,
   "metadata": {},
   "outputs": [],
   "source": [
    "answers_final = answers_final.sort_values('createdAt').drop_duplicates(['user'], keep='first')"
   ]
  },
  {
   "cell_type": "code",
   "execution_count": 91,
   "metadata": {},
   "outputs": [
    {
     "data": {
      "text/plain": [
       "1"
      ]
     },
     "execution_count": 91,
     "metadata": {},
     "output_type": "execute_result"
    }
   ],
   "source": [
    "answers_final.groupby(\"user\")[\"createdAt\"].count().max()"
   ]
  },
  {
   "cell_type": "code",
   "execution_count": 92,
   "metadata": {},
   "outputs": [],
   "source": [
    "answers_final = answers_final.merge(df_tk, how=\"outer\", left_on=['user', 'createdAt','age', 'gender', 'phq1', 'phq2', 'phq3', 'phq4',\n",
    "       'phq5', 'phq6', 'phq7', 'phq8', 'gad_score', 'phq_cat'], right_on=['user','createdAt', 'age', 'gender', 'phq1', 'phq2', 'phq3', 'phq4',\n",
    "       'phq5', 'phq6', 'phq7', 'phq8', 'gad_score', 'phq_cat'])"
   ]
  },
  {
   "cell_type": "code",
   "execution_count": 93,
   "metadata": {},
   "outputs": [],
   "source": [
    "answers_final.dropna(subset = [\"phq8\"], inplace= True)"
   ]
  },
  {
   "cell_type": "code",
   "execution_count": 94,
   "metadata": {},
   "outputs": [],
   "source": [
    "answers_final = answers_final.sort_values('createdAt').drop_duplicates(['user'], keep='first')"
   ]
  },
  {
   "cell_type": "code",
   "execution_count": 95,
   "metadata": {},
   "outputs": [
    {
     "data": {
      "text/plain": [
       "1470"
      ]
     },
     "execution_count": 95,
     "metadata": {},
     "output_type": "execute_result"
    }
   ],
   "source": [
    "answers_final.user.nunique()"
   ]
  },
  {
   "cell_type": "markdown",
   "metadata": {},
   "source": [
    "## Merge wearables and questionnaires "
   ]
  },
  {
   "cell_type": "markdown",
   "metadata": {},
   "source": [
    "## Heart Rate"
   ]
  },
  {
   "cell_type": "code",
   "execution_count": 96,
   "metadata": {},
   "outputs": [
    {
     "data": {
      "text/plain": [
       "phq_cat\n",
       "0    315\n",
       "1    287\n",
       "Name: id, dtype: int64"
      ]
     },
     "execution_count": 96,
     "metadata": {},
     "output_type": "execute_result"
    }
   ],
   "source": [
    "data_all.groupby(\"phq_cat\")[\"id\"].count()"
   ]
  },
  {
   "cell_type": "code",
   "execution_count": 97,
   "metadata": {},
   "outputs": [
    {
     "ename": "AttributeError",
     "evalue": "'Series' object has no attribute 'nunq'",
     "output_type": "error",
     "traceback": [
      "\u001b[0;31m---------------------------------------------------------------------------\u001b[0m",
      "\u001b[0;31mAttributeError\u001b[0m                            Traceback (most recent call last)",
      "\u001b[0;32m<ipython-input-97-b10455b3f0fe>\u001b[0m in \u001b[0;36m<module>\u001b[0;34m\u001b[0m\n\u001b[0;32m----> 1\u001b[0;31m \u001b[0mdata_all\u001b[0m\u001b[0;34m.\u001b[0m\u001b[0mid\u001b[0m\u001b[0;34m.\u001b[0m\u001b[0mnunq\u001b[0m\u001b[0;34m\u001b[0m\u001b[0;34m\u001b[0m\u001b[0m\n\u001b[0m",
      "\u001b[0;32m~/opt/anaconda3/lib/python3.7/site-packages/pandas/core/generic.py\u001b[0m in \u001b[0;36m__getattr__\u001b[0;34m(self, name)\u001b[0m\n\u001b[1;32m   5485\u001b[0m         ):\n\u001b[1;32m   5486\u001b[0m             \u001b[0;32mreturn\u001b[0m \u001b[0mself\u001b[0m\u001b[0;34m[\u001b[0m\u001b[0mname\u001b[0m\u001b[0;34m]\u001b[0m\u001b[0;34m\u001b[0m\u001b[0;34m\u001b[0m\u001b[0m\n\u001b[0;32m-> 5487\u001b[0;31m         \u001b[0;32mreturn\u001b[0m \u001b[0mobject\u001b[0m\u001b[0;34m.\u001b[0m\u001b[0m__getattribute__\u001b[0m\u001b[0;34m(\u001b[0m\u001b[0mself\u001b[0m\u001b[0;34m,\u001b[0m \u001b[0mname\u001b[0m\u001b[0;34m)\u001b[0m\u001b[0;34m\u001b[0m\u001b[0;34m\u001b[0m\u001b[0m\n\u001b[0m\u001b[1;32m   5488\u001b[0m \u001b[0;34m\u001b[0m\u001b[0m\n\u001b[1;32m   5489\u001b[0m     \u001b[0;32mdef\u001b[0m \u001b[0m__setattr__\u001b[0m\u001b[0;34m(\u001b[0m\u001b[0mself\u001b[0m\u001b[0;34m,\u001b[0m \u001b[0mname\u001b[0m\u001b[0;34m:\u001b[0m \u001b[0mstr\u001b[0m\u001b[0;34m,\u001b[0m \u001b[0mvalue\u001b[0m\u001b[0;34m)\u001b[0m \u001b[0;34m->\u001b[0m \u001b[0;32mNone\u001b[0m\u001b[0;34m:\u001b[0m\u001b[0;34m\u001b[0m\u001b[0;34m\u001b[0m\u001b[0m\n",
      "\u001b[0;31mAttributeError\u001b[0m: 'Series' object has no attribute 'nunq'"
     ]
    }
   ],
   "source": [
    "data_all.id.nunq"
   ]
  },
  {
   "cell_type": "code",
   "execution_count": null,
   "metadata": {},
   "outputs": [],
   "source": []
  }
 ],
 "metadata": {
  "kernelspec": {
   "display_name": "Python 3 (ipykernel)",
   "language": "python",
   "name": "python3"
  },
  "language_info": {
   "codemirror_mode": {
    "name": "ipython",
    "version": 3
   },
   "file_extension": ".py",
   "mimetype": "text/x-python",
   "name": "python",
   "nbconvert_exporter": "python",
   "pygments_lexer": "ipython3",
   "version": "3.11.5"
  }
 },
 "nbformat": 4,
 "nbformat_minor": 2
}
