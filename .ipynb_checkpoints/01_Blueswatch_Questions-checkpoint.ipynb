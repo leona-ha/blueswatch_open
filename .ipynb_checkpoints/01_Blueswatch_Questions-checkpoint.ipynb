{
 "cells": [
  {
   "cell_type": "code",
   "execution_count": 1,
   "id": "fd05b191",
   "metadata": {},
   "outputs": [],
   "source": [
    "import os\n",
    "import glob\n",
    "import pickle\n",
    "import sys\n",
    "# If your current working directory is the notebooks directory, use this:\n",
    "library_path = os.path.abspath(os.path.join(os.getcwd(), '..', 'library'))\n",
    "sys.path.append(library_path)\n",
    "\n",
    "import pandas as pd\n",
    "import datetime as dt\n",
    "from datetime import date, datetime\n",
    "import numpy as np\n",
    "\n",
    "import matplotlib.pyplot as plt\n",
    "import seaborn as sns\n",
    "import plotly.express as px\n",
    "\n",
    "today = date.today().strftime(\"%d%m%Y\")\n",
    "today_day = pd.to_datetime('today').normalize()\n",
    "\n",
    "today = \"12062024\"\n",
    "\n",
    "datapath = \"/Users/leonahammelrath/FU_Psychoinformatik/Github/blueswatch_open/data/\"\n",
    "filepath = datapath + f\"export_bw_{today}\"\n"
   ]
  },
  {
   "cell_type": "code",
   "execution_count": 2,
   "id": "6e307ce0",
   "metadata": {},
   "outputs": [],
   "source": [
    "# load data\n",
    "session = pd.read_csv(filepath + \"/questionnaireSession.csv\",low_memory=False)\n",
    "answers = pd.read_csv(filepath  + \"/answers.csv\", low_memory=False)\n",
    "choice = pd.read_csv(filepath  + \"/choice.csv\",low_memory=False)\n",
    "questions = pd.read_csv(filepath  + \"/questions.csv\",low_memory=False)\n",
    "questionnaire = pd.read_csv(filepath  + \"/questionnaires.csv\", low_memory=False)"
   ]
  },
  {
   "cell_type": "code",
   "execution_count": 3,
   "id": "7c7fce43",
   "metadata": {},
   "outputs": [],
   "source": [
    "# questionnaire session data\n",
    "session[\"user\"] = session[\"user\"].str[:4]\n",
    "session.rename(columns = {\"user\":\"customer\",\"completedAt\": \"quest_complete\", \"createdAt\": \"quest_create\", \"expirationTimestamp\": \"quest_expir\"}, inplace=True)\n",
    "session[\"quest_create\"] = (pd.to_datetime(session[\"quest_create\"],unit='ms'))\n",
    "session[\"quest_complete\"] = (pd.to_datetime(session[\"quest_complete\"],unit='ms'))\n",
    "\n",
    "df_sess = session[[\"study\",\"customer\", \"sessionRun\", \"quest_create\", \"quest_complete\", \"study\"]]"
   ]
  },
  {
   "cell_type": "code",
   "execution_count": 4,
   "id": "cb2e445e",
   "metadata": {},
   "outputs": [],
   "source": [
    "# answer data; element = answer\n",
    "answers[\"user\"] = answers[\"user\"].str[:4]\n",
    "answers = answers[[\"user\", \"questionnaireSession\", \"questionnaire\", \"study\", \n",
    "                   \"question\", \"order\",\"element\", \"createdAt\"]]\n",
    "answers[\"createdAt\"] = (pd.to_datetime(answers[\"createdAt\"],unit='ms'))\n",
    "answers.rename(columns={\"user\":\"customer\",\"questionnaireSession\":\"session_unique\"}, inplace=True)"
   ]
  },
  {
   "cell_type": "code",
   "execution_count": 5,
   "id": "35ebe16a",
   "metadata": {},
   "outputs": [],
   "source": [
    "# item description data; describes element contents\n",
    "choice = choice[[\"element\", \"choice_id\", \"text\", \"question\"]]\n",
    "choice.rename(columns={\"text\":\"choice_text\"}, inplace=True)"
   ]
  },
  {
   "cell_type": "code",
   "execution_count": 6,
   "id": "50c19375",
   "metadata": {},
   "outputs": [],
   "source": [
    "# question description data, i.e. PHQ8.2\n",
    "questions = questions[[\"id\", \"title\"]]\n",
    "questions.rename(columns={\"id\":\"question\",\"title\":\"quest_title\"}, inplace=True)"
   ]
  },
  {
   "cell_type": "code",
   "execution_count": 7,
   "id": "eb87bc44",
   "metadata": {},
   "outputs": [],
   "source": [
    "# questionnaire description data, i.e. Assessment after 4 weeks\n",
    "questionnaire = questionnaire[[\"id\", \"name\"]]\n",
    "questionnaire.rename(columns={\"id\":\"questionnaire\",\"name\":\"questionnaire_name\"}, inplace=True)"
   ]
  },
  {
   "cell_type": "code",
   "execution_count": 8,
   "id": "96ee2793",
   "metadata": {},
   "outputs": [],
   "source": [
    "# merge questionnaires to final \n",
    "answer_merged = pd.merge(answers, choice, on= [\"question\",\"element\"])\n",
    "answer_merged = pd.merge(answer_merged, questions, on= \"question\")\n",
    "answer_merged = pd.merge(answer_merged, questionnaire, on= \"questionnaire\")\n",
    "answer_merged[\"quest_complete_day\"] = answer_merged.createdAt.dt.normalize()"
   ]
  },
  {
   "cell_type": "code",
   "execution_count": 9,
   "id": "7d561761",
   "metadata": {},
   "outputs": [
    {
     "data": {
      "text/plain": [
       "array(['BluesWatch+ Eingangsbefragung', 'BluesWatch Eingangsbefragung',\n",
       "       'Abschlussfragebogen nach 4 Wochen',\n",
       "       'Fragebogen zum psychischen Wohlbefinden - TEST',\n",
       "       'Fragebogen zum psychischen Wohlbefinden'], dtype=object)"
      ]
     },
     "execution_count": 9,
     "metadata": {},
     "output_type": "execute_result"
    }
   ],
   "source": [
    "answer_merged.questionnaire_name.unique()"
   ]
  },
  {
   "cell_type": "code",
   "execution_count": 10,
   "id": "4dddd952",
   "metadata": {},
   "outputs": [
    {
     "data": {
      "text/plain": [
       "array(['Alter', 'Geschlecht'], dtype=object)"
      ]
     },
     "execution_count": 10,
     "metadata": {},
     "output_type": "execute_result"
    }
   ],
   "source": [
    "answer_merged.loc[answer_merged.questionnaire_name == 'BluesWatch Eingangsbefragung'].quest_title.unique()"
   ]
  },
  {
   "cell_type": "code",
   "execution_count": 11,
   "id": "3b7a6497",
   "metadata": {},
   "outputs": [
    {
     "data": {
      "text/plain": [
       "array(['Alter', 'Geschlecht'], dtype=object)"
      ]
     },
     "execution_count": 11,
     "metadata": {},
     "output_type": "execute_result"
    }
   ],
   "source": [
    "answer_merged.loc[answer_merged.questionnaire_name == 'BluesWatch+ Eingangsbefragung'].quest_title.unique()"
   ]
  },
  {
   "cell_type": "code",
   "execution_count": 12,
   "id": "65055903",
   "metadata": {},
   "outputs": [
    {
     "data": {
      "text/plain": [
       "array(['Abschlussbefragung TK Depressionscoach'], dtype=object)"
      ]
     },
     "execution_count": 12,
     "metadata": {},
     "output_type": "execute_result"
    }
   ],
   "source": [
    "answer_merged.loc[answer_merged.questionnaire_name == 'Abschlussfragebogen nach 4 Wochen'].quest_title.unique()"
   ]
  },
  {
   "cell_type": "code",
   "execution_count": 13,
   "id": "cd6a5b7e",
   "metadata": {},
   "outputs": [
    {
     "data": {
      "text/plain": [
       "array(['PHQ-8_1', 'PHQ-8_2', 'PHQ-8_3', 'PHQ-8_4', 'PHQ-8_5', 'PHQ-8_6',\n",
       "       'PHQ-8_7', 'PHQ-8_8', 'GAD-7'], dtype=object)"
      ]
     },
     "execution_count": 13,
     "metadata": {},
     "output_type": "execute_result"
    }
   ],
   "source": [
    "answer_merged.loc[answer_merged.questionnaire_name == 'Fragebogen zum psychischen Wohlbefinden'].quest_title.unique()"
   ]
  },
  {
   "cell_type": "code",
   "execution_count": 25,
   "id": "656cac89",
   "metadata": {},
   "outputs": [],
   "source": [
    "test =answer_merged.loc[answer_merged.questionnaire_name == 'Fragebogen zum psychischen Wohlbefinden - TEST'].quest_title.unique()"
   ]
  },
  {
   "cell_type": "code",
   "execution_count": null,
   "id": "fd3d1766",
   "metadata": {},
   "outputs": [],
   "source": []
  },
  {
   "cell_type": "markdown",
   "id": "400c4049",
   "metadata": {},
   "source": [
    "### Extract demographics"
   ]
  },
  {
   "cell_type": "code",
   "execution_count": 15,
   "id": "63a65d68",
   "metadata": {},
   "outputs": [],
   "source": [
    "demographics = answer_merged.loc[answer_merged.questionnaire_name.isin(['BluesWatch Eingangsbefragung', 'BluesWatch+ Eingangsbefragung'])]"
   ]
  },
  {
   "cell_type": "code",
   "execution_count": 21,
   "id": "4176693e",
   "metadata": {},
   "outputs": [],
   "source": [
    "# Pivot the DataFrame to create 'age' and 'gender' columns\n",
    "demographics = demographics.pivot_table(index='customer', columns='quest_title', values='choice_id', aggfunc='first').reset_index()"
   ]
  },
  {
   "cell_type": "markdown",
   "id": "92608095",
   "metadata": {},
   "source": [
    "### Extract PHQ & GAD values"
   ]
  },
  {
   "cell_type": "code",
   "execution_count": 23,
   "id": "50a2f1bc",
   "metadata": {},
   "outputs": [],
   "source": [
    "phq_gad = answer_merged.loc[answer_merged.questionnaire_name.isin(['Fragebogen zum psychischen Wohlbefinden', \n",
    "                                                                        'Fragebogen zum psychischen Wohlbefinden - TEST'])]"
   ]
  },
  {
   "cell_type": "code",
   "execution_count": 24,
   "id": "a66eec51",
   "metadata": {},
   "outputs": [
    {
     "data": {
      "text/html": [
       "<div>\n",
       "<style scoped>\n",
       "    .dataframe tbody tr th:only-of-type {\n",
       "        vertical-align: middle;\n",
       "    }\n",
       "\n",
       "    .dataframe tbody tr th {\n",
       "        vertical-align: top;\n",
       "    }\n",
       "\n",
       "    .dataframe thead th {\n",
       "        text-align: right;\n",
       "    }\n",
       "</style>\n",
       "<table border=\"1\" class=\"dataframe\">\n",
       "  <thead>\n",
       "    <tr style=\"text-align: right;\">\n",
       "      <th></th>\n",
       "      <th>customer</th>\n",
       "      <th>session_unique</th>\n",
       "      <th>questionnaire</th>\n",
       "      <th>study</th>\n",
       "      <th>question</th>\n",
       "      <th>order</th>\n",
       "      <th>element</th>\n",
       "      <th>createdAt</th>\n",
       "      <th>choice_id</th>\n",
       "      <th>choice_text</th>\n",
       "      <th>quest_title</th>\n",
       "      <th>questionnaire_name</th>\n",
       "      <th>quest_complete_day</th>\n",
       "    </tr>\n",
       "  </thead>\n",
       "  <tbody>\n",
       "    <tr>\n",
       "      <th>7049</th>\n",
       "      <td>gsjQ</td>\n",
       "      <td>5494</td>\n",
       "      <td>30</td>\n",
       "      <td>18</td>\n",
       "      <td>228</td>\n",
       "      <td>0.0</td>\n",
       "      <td>1167.0</td>\n",
       "      <td>2023-02-08 14:54:19.723</td>\n",
       "      <td>0</td>\n",
       "      <td>Überhaupt nicht</td>\n",
       "      <td>PHQ-8_1</td>\n",
       "      <td>Fragebogen zum psychischen Wohlbefinden - TEST</td>\n",
       "      <td>2023-02-08</td>\n",
       "    </tr>\n",
       "    <tr>\n",
       "      <th>7050</th>\n",
       "      <td>gsjQ</td>\n",
       "      <td>5964</td>\n",
       "      <td>30</td>\n",
       "      <td>18</td>\n",
       "      <td>228</td>\n",
       "      <td>0.0</td>\n",
       "      <td>1167.0</td>\n",
       "      <td>2023-02-24 12:05:02.796</td>\n",
       "      <td>0</td>\n",
       "      <td>Überhaupt nicht</td>\n",
       "      <td>PHQ-8_1</td>\n",
       "      <td>Fragebogen zum psychischen Wohlbefinden - TEST</td>\n",
       "      <td>2023-02-24</td>\n",
       "    </tr>\n",
       "    <tr>\n",
       "      <th>7051</th>\n",
       "      <td>gsjQ</td>\n",
       "      <td>6002</td>\n",
       "      <td>30</td>\n",
       "      <td>18</td>\n",
       "      <td>228</td>\n",
       "      <td>0.0</td>\n",
       "      <td>1167.0</td>\n",
       "      <td>2023-02-25 11:02:02.320</td>\n",
       "      <td>0</td>\n",
       "      <td>Überhaupt nicht</td>\n",
       "      <td>PHQ-8_1</td>\n",
       "      <td>Fragebogen zum psychischen Wohlbefinden - TEST</td>\n",
       "      <td>2023-02-25</td>\n",
       "    </tr>\n",
       "    <tr>\n",
       "      <th>7052</th>\n",
       "      <td>gsjQ</td>\n",
       "      <td>6102</td>\n",
       "      <td>30</td>\n",
       "      <td>18</td>\n",
       "      <td>228</td>\n",
       "      <td>0.0</td>\n",
       "      <td>1167.0</td>\n",
       "      <td>2023-03-01 07:33:44.135</td>\n",
       "      <td>0</td>\n",
       "      <td>Überhaupt nicht</td>\n",
       "      <td>PHQ-8_1</td>\n",
       "      <td>Fragebogen zum psychischen Wohlbefinden - TEST</td>\n",
       "      <td>2023-03-01</td>\n",
       "    </tr>\n",
       "    <tr>\n",
       "      <th>7053</th>\n",
       "      <td>ww00</td>\n",
       "      <td>6187</td>\n",
       "      <td>30</td>\n",
       "      <td>18</td>\n",
       "      <td>228</td>\n",
       "      <td>0.0</td>\n",
       "      <td>1167.0</td>\n",
       "      <td>2023-03-03 00:59:38.053</td>\n",
       "      <td>0</td>\n",
       "      <td>Überhaupt nicht</td>\n",
       "      <td>PHQ-8_1</td>\n",
       "      <td>Fragebogen zum psychischen Wohlbefinden - TEST</td>\n",
       "      <td>2023-03-03</td>\n",
       "    </tr>\n",
       "    <tr>\n",
       "      <th>...</th>\n",
       "      <td>...</td>\n",
       "      <td>...</td>\n",
       "      <td>...</td>\n",
       "      <td>...</td>\n",
       "      <td>...</td>\n",
       "      <td>...</td>\n",
       "      <td>...</td>\n",
       "      <td>...</td>\n",
       "      <td>...</td>\n",
       "      <td>...</td>\n",
       "      <td>...</td>\n",
       "      <td>...</td>\n",
       "      <td>...</td>\n",
       "    </tr>\n",
       "    <tr>\n",
       "      <th>21990</th>\n",
       "      <td>iItu</td>\n",
       "      <td>77656</td>\n",
       "      <td>45</td>\n",
       "      <td>21</td>\n",
       "      <td>249</td>\n",
       "      <td>0.0</td>\n",
       "      <td>1360.0</td>\n",
       "      <td>2024-05-16 10:10:53.512</td>\n",
       "      <td>3</td>\n",
       "      <td>Beinahe jeden Tag</td>\n",
       "      <td>GAD-7</td>\n",
       "      <td>Fragebogen zum psychischen Wohlbefinden</td>\n",
       "      <td>2024-05-16</td>\n",
       "    </tr>\n",
       "    <tr>\n",
       "      <th>21991</th>\n",
       "      <td>Cl5r</td>\n",
       "      <td>78193</td>\n",
       "      <td>45</td>\n",
       "      <td>21</td>\n",
       "      <td>249</td>\n",
       "      <td>0.0</td>\n",
       "      <td>1360.0</td>\n",
       "      <td>2024-05-22 07:03:47.785</td>\n",
       "      <td>3</td>\n",
       "      <td>Beinahe jeden Tag</td>\n",
       "      <td>GAD-7</td>\n",
       "      <td>Fragebogen zum psychischen Wohlbefinden</td>\n",
       "      <td>2024-05-22</td>\n",
       "    </tr>\n",
       "    <tr>\n",
       "      <th>21992</th>\n",
       "      <td>wjN8</td>\n",
       "      <td>78979</td>\n",
       "      <td>45</td>\n",
       "      <td>21</td>\n",
       "      <td>249</td>\n",
       "      <td>0.0</td>\n",
       "      <td>1360.0</td>\n",
       "      <td>2024-05-22 09:08:00.039</td>\n",
       "      <td>3</td>\n",
       "      <td>Beinahe jeden Tag</td>\n",
       "      <td>GAD-7</td>\n",
       "      <td>Fragebogen zum psychischen Wohlbefinden</td>\n",
       "      <td>2024-05-22</td>\n",
       "    </tr>\n",
       "    <tr>\n",
       "      <th>21993</th>\n",
       "      <td>qFTF</td>\n",
       "      <td>80919</td>\n",
       "      <td>45</td>\n",
       "      <td>21</td>\n",
       "      <td>249</td>\n",
       "      <td>0.0</td>\n",
       "      <td>1360.0</td>\n",
       "      <td>2024-05-31 08:05:06.761</td>\n",
       "      <td>3</td>\n",
       "      <td>Beinahe jeden Tag</td>\n",
       "      <td>GAD-7</td>\n",
       "      <td>Fragebogen zum psychischen Wohlbefinden</td>\n",
       "      <td>2024-05-31</td>\n",
       "    </tr>\n",
       "    <tr>\n",
       "      <th>21994</th>\n",
       "      <td>ZEZb</td>\n",
       "      <td>80918</td>\n",
       "      <td>45</td>\n",
       "      <td>21</td>\n",
       "      <td>249</td>\n",
       "      <td>0.0</td>\n",
       "      <td>1360.0</td>\n",
       "      <td>2024-06-05 11:12:55.283</td>\n",
       "      <td>3</td>\n",
       "      <td>Beinahe jeden Tag</td>\n",
       "      <td>GAD-7</td>\n",
       "      <td>Fragebogen zum psychischen Wohlbefinden</td>\n",
       "      <td>2024-06-05</td>\n",
       "    </tr>\n",
       "  </tbody>\n",
       "</table>\n",
       "<p>14946 rows × 13 columns</p>\n",
       "</div>"
      ],
      "text/plain": [
       "      customer  session_unique  questionnaire  study  question  order  \\\n",
       "7049      gsjQ            5494             30     18       228    0.0   \n",
       "7050      gsjQ            5964             30     18       228    0.0   \n",
       "7051      gsjQ            6002             30     18       228    0.0   \n",
       "7052      gsjQ            6102             30     18       228    0.0   \n",
       "7053      ww00            6187             30     18       228    0.0   \n",
       "...        ...             ...            ...    ...       ...    ...   \n",
       "21990     iItu           77656             45     21       249    0.0   \n",
       "21991     Cl5r           78193             45     21       249    0.0   \n",
       "21992     wjN8           78979             45     21       249    0.0   \n",
       "21993     qFTF           80919             45     21       249    0.0   \n",
       "21994     ZEZb           80918             45     21       249    0.0   \n",
       "\n",
       "       element               createdAt  choice_id        choice_text  \\\n",
       "7049    1167.0 2023-02-08 14:54:19.723          0    Überhaupt nicht   \n",
       "7050    1167.0 2023-02-24 12:05:02.796          0    Überhaupt nicht   \n",
       "7051    1167.0 2023-02-25 11:02:02.320          0    Überhaupt nicht   \n",
       "7052    1167.0 2023-03-01 07:33:44.135          0    Überhaupt nicht   \n",
       "7053    1167.0 2023-03-03 00:59:38.053          0    Überhaupt nicht   \n",
       "...        ...                     ...        ...                ...   \n",
       "21990   1360.0 2024-05-16 10:10:53.512          3  Beinahe jeden Tag   \n",
       "21991   1360.0 2024-05-22 07:03:47.785          3  Beinahe jeden Tag   \n",
       "21992   1360.0 2024-05-22 09:08:00.039          3  Beinahe jeden Tag   \n",
       "21993   1360.0 2024-05-31 08:05:06.761          3  Beinahe jeden Tag   \n",
       "21994   1360.0 2024-06-05 11:12:55.283          3  Beinahe jeden Tag   \n",
       "\n",
       "      quest_title                              questionnaire_name  \\\n",
       "7049      PHQ-8_1  Fragebogen zum psychischen Wohlbefinden - TEST   \n",
       "7050      PHQ-8_1  Fragebogen zum psychischen Wohlbefinden - TEST   \n",
       "7051      PHQ-8_1  Fragebogen zum psychischen Wohlbefinden - TEST   \n",
       "7052      PHQ-8_1  Fragebogen zum psychischen Wohlbefinden - TEST   \n",
       "7053      PHQ-8_1  Fragebogen zum psychischen Wohlbefinden - TEST   \n",
       "...           ...                                             ...   \n",
       "21990       GAD-7         Fragebogen zum psychischen Wohlbefinden   \n",
       "21991       GAD-7         Fragebogen zum psychischen Wohlbefinden   \n",
       "21992       GAD-7         Fragebogen zum psychischen Wohlbefinden   \n",
       "21993       GAD-7         Fragebogen zum psychischen Wohlbefinden   \n",
       "21994       GAD-7         Fragebogen zum psychischen Wohlbefinden   \n",
       "\n",
       "      quest_complete_day  \n",
       "7049          2023-02-08  \n",
       "7050          2023-02-24  \n",
       "7051          2023-02-25  \n",
       "7052          2023-03-01  \n",
       "7053          2023-03-03  \n",
       "...                  ...  \n",
       "21990         2024-05-16  \n",
       "21991         2024-05-22  \n",
       "21992         2024-05-22  \n",
       "21993         2024-05-31  \n",
       "21994         2024-06-05  \n",
       "\n",
       "[14946 rows x 13 columns]"
      ]
     },
     "execution_count": 24,
     "metadata": {},
     "output_type": "execute_result"
    }
   ],
   "source": [
    "phq_gad"
   ]
  },
  {
   "cell_type": "code",
   "execution_count": null,
   "id": "959fa851",
   "metadata": {},
   "outputs": [],
   "source": []
  }
 ],
 "metadata": {
  "kernelspec": {
   "display_name": "Python 3 (ipykernel)",
   "language": "python",
   "name": "python3"
  },
  "language_info": {
   "codemirror_mode": {
    "name": "ipython",
    "version": 3
   },
   "file_extension": ".py",
   "mimetype": "text/x-python",
   "name": "python",
   "nbconvert_exporter": "python",
   "pygments_lexer": "ipython3",
   "version": "3.11.5"
  }
 },
 "nbformat": 4,
 "nbformat_minor": 5
}
